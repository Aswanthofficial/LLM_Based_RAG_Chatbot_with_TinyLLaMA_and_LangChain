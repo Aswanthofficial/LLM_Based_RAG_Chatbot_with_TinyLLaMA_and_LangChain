{
  "nbformat": 4,
  "nbformat_minor": 0,
  "metadata": {
    "colab": {
      "provenance": []
    },
    "kernelspec": {
      "name": "python3",
      "display_name": "Python 3"
    },
    "language_info": {
      "name": "python"
    }
  },
  "cells": [
    {
      "cell_type": "markdown",
      "source": [
        "#***LLM***"
      ],
      "metadata": {
        "id": "YfY26eQicGzO"
      }
    },
    {
      "cell_type": "code",
      "source": [
        "!pip install -q langchain llama-cpp-python faiss-cpu sentence-transformers"
      ],
      "metadata": {
        "colab": {
          "base_uri": "https://localhost:8080/"
        },
        "id": "TrhmJFNNcXsw",
        "outputId": "c3f73c52-bda2-414c-ba1e-827281f3bfe3"
      },
      "execution_count": null,
      "outputs": [
        {
          "output_type": "stream",
          "name": "stdout",
          "text": [
            "\u001b[2K     \u001b[90m━━━━━━━━━━━━━━━━━━━━━━━━━━━━━━━━━━━━━━━━\u001b[0m \u001b[32m49.8/49.8 MB\u001b[0m \u001b[31m14.2 MB/s\u001b[0m eta \u001b[36m0:00:00\u001b[0m\n",
            "\u001b[?25h  Installing build dependencies ... \u001b[?25l\u001b[?25hdone\n",
            "  Getting requirements to build wheel ... \u001b[?25l\u001b[?25hdone\n",
            "  Installing backend dependencies ... \u001b[?25l\u001b[?25hdone\n",
            "  Preparing metadata (pyproject.toml) ... \u001b[?25l\u001b[?25hdone\n",
            "\u001b[2K   \u001b[90m━━━━━━━━━━━━━━━━━━━━━━━━━━━━━━━━━━━━━━━━\u001b[0m \u001b[32m31.3/31.3 MB\u001b[0m \u001b[31m23.6 MB/s\u001b[0m eta \u001b[36m0:00:00\u001b[0m\n",
            "\u001b[2K   \u001b[90m━━━━━━━━━━━━━━━━━━━━━━━━━━━━━━━━━━━━━━━━\u001b[0m \u001b[32m45.5/45.5 kB\u001b[0m \u001b[31m2.8 MB/s\u001b[0m eta \u001b[36m0:00:00\u001b[0m\n",
            "\u001b[2K   \u001b[90m━━━━━━━━━━━━━━━━━━━━━━━━━━━━━━━━━━━━━━━━\u001b[0m \u001b[32m363.4/363.4 MB\u001b[0m \u001b[31m4.7 MB/s\u001b[0m eta \u001b[36m0:00:00\u001b[0m\n",
            "\u001b[2K   \u001b[90m━━━━━━━━━━━━━━━━━━━━━━━━━━━━━━━━━━━━━━━━\u001b[0m \u001b[32m13.8/13.8 MB\u001b[0m \u001b[31m72.0 MB/s\u001b[0m eta \u001b[36m0:00:00\u001b[0m\n",
            "\u001b[2K   \u001b[90m━━━━━━━━━━━━━━━━━━━━━━━━━━━━━━━━━━━━━━━━\u001b[0m \u001b[32m24.6/24.6 MB\u001b[0m \u001b[31m62.3 MB/s\u001b[0m eta \u001b[36m0:00:00\u001b[0m\n",
            "\u001b[2K   \u001b[90m━━━━━━━━━━━━━━━━━━━━━━━━━━━━━━━━━━━━━━━━\u001b[0m \u001b[32m883.7/883.7 kB\u001b[0m \u001b[31m42.4 MB/s\u001b[0m eta \u001b[36m0:00:00\u001b[0m\n",
            "\u001b[2K   \u001b[90m━━━━━━━━━━━━━━━━━━━━━━━━━━━━━━━━━━━━━━━━\u001b[0m \u001b[32m664.8/664.8 MB\u001b[0m \u001b[31m3.0 MB/s\u001b[0m eta \u001b[36m0:00:00\u001b[0m\n",
            "\u001b[2K   \u001b[90m━━━━━━━━━━━━━━━━━━━━━━━━━━━━━━━━━━━━━━━━\u001b[0m \u001b[32m211.5/211.5 MB\u001b[0m \u001b[31m5.2 MB/s\u001b[0m eta \u001b[36m0:00:00\u001b[0m\n",
            "\u001b[2K   \u001b[90m━━━━━━━━━━━━━━━━━━━━━━━━━━━━━━━━━━━━━━━━\u001b[0m \u001b[32m56.3/56.3 MB\u001b[0m \u001b[31m11.6 MB/s\u001b[0m eta \u001b[36m0:00:00\u001b[0m\n",
            "\u001b[2K   \u001b[90m━━━━━━━━━━━━━━━━━━━━━━━━━━━━━━━━━━━━━━━━\u001b[0m \u001b[32m127.9/127.9 MB\u001b[0m \u001b[31m8.1 MB/s\u001b[0m eta \u001b[36m0:00:00\u001b[0m\n",
            "\u001b[2K   \u001b[90m━━━━━━━━━━━━━━━━━━━━━━━━━━━━━━━━━━━━━━━━\u001b[0m \u001b[32m207.5/207.5 MB\u001b[0m \u001b[31m6.9 MB/s\u001b[0m eta \u001b[36m0:00:00\u001b[0m\n",
            "\u001b[2K   \u001b[90m━━━━━━━━━━━━━━━━━━━━━━━━━━━━━━━━━━━━━━━━\u001b[0m \u001b[32m21.1/21.1 MB\u001b[0m \u001b[31m87.3 MB/s\u001b[0m eta \u001b[36m0:00:00\u001b[0m\n",
            "\u001b[?25h  Building wheel for llama-cpp-python (pyproject.toml) ... \u001b[?25l\u001b[?25hdone\n"
          ]
        }
      ]
    },
    {
      "cell_type": "code",
      "source": [
        "!pip install langchain_community"
      ],
      "metadata": {
        "colab": {
          "base_uri": "https://localhost:8080/"
        },
        "id": "MK366OEScHQ8",
        "outputId": "836cb39a-fd4c-409d-f090-8b1595df29ff"
      },
      "execution_count": null,
      "outputs": [
        {
          "output_type": "stream",
          "name": "stdout",
          "text": [
            "Requirement already satisfied: langchain_community in /usr/local/lib/python3.11/dist-packages (0.3.27)\n",
            "Requirement already satisfied: langchain-core<1.0.0,>=0.3.66 in /usr/local/lib/python3.11/dist-packages (from langchain_community) (0.3.67)\n",
            "Requirement already satisfied: langchain<1.0.0,>=0.3.26 in /usr/local/lib/python3.11/dist-packages (from langchain_community) (0.3.26)\n",
            "Requirement already satisfied: SQLAlchemy<3,>=1.4 in /usr/local/lib/python3.11/dist-packages (from langchain_community) (2.0.41)\n",
            "Requirement already satisfied: requests<3,>=2 in /usr/local/lib/python3.11/dist-packages (from langchain_community) (2.32.3)\n",
            "Requirement already satisfied: PyYAML>=5.3 in /usr/local/lib/python3.11/dist-packages (from langchain_community) (6.0.2)\n",
            "Requirement already satisfied: aiohttp<4.0.0,>=3.8.3 in /usr/local/lib/python3.11/dist-packages (from langchain_community) (3.11.15)\n",
            "Requirement already satisfied: tenacity!=8.4.0,<10,>=8.1.0 in /usr/local/lib/python3.11/dist-packages (from langchain_community) (8.5.0)\n",
            "Requirement already satisfied: dataclasses-json<0.7,>=0.5.7 in /usr/local/lib/python3.11/dist-packages (from langchain_community) (0.6.7)\n",
            "Requirement already satisfied: pydantic-settings<3.0.0,>=2.4.0 in /usr/local/lib/python3.11/dist-packages (from langchain_community) (2.10.1)\n",
            "Requirement already satisfied: langsmith>=0.1.125 in /usr/local/lib/python3.11/dist-packages (from langchain_community) (0.4.4)\n",
            "Requirement already satisfied: httpx-sse<1.0.0,>=0.4.0 in /usr/local/lib/python3.11/dist-packages (from langchain_community) (0.4.1)\n",
            "Requirement already satisfied: numpy>=1.26.2 in /usr/local/lib/python3.11/dist-packages (from langchain_community) (2.0.2)\n",
            "Requirement already satisfied: aiohappyeyeballs>=2.3.0 in /usr/local/lib/python3.11/dist-packages (from aiohttp<4.0.0,>=3.8.3->langchain_community) (2.6.1)\n",
            "Requirement already satisfied: aiosignal>=1.1.2 in /usr/local/lib/python3.11/dist-packages (from aiohttp<4.0.0,>=3.8.3->langchain_community) (1.3.2)\n",
            "Requirement already satisfied: attrs>=17.3.0 in /usr/local/lib/python3.11/dist-packages (from aiohttp<4.0.0,>=3.8.3->langchain_community) (25.3.0)\n",
            "Requirement already satisfied: frozenlist>=1.1.1 in /usr/local/lib/python3.11/dist-packages (from aiohttp<4.0.0,>=3.8.3->langchain_community) (1.7.0)\n",
            "Requirement already satisfied: multidict<7.0,>=4.5 in /usr/local/lib/python3.11/dist-packages (from aiohttp<4.0.0,>=3.8.3->langchain_community) (6.6.3)\n",
            "Requirement already satisfied: propcache>=0.2.0 in /usr/local/lib/python3.11/dist-packages (from aiohttp<4.0.0,>=3.8.3->langchain_community) (0.3.2)\n",
            "Requirement already satisfied: yarl<2.0,>=1.17.0 in /usr/local/lib/python3.11/dist-packages (from aiohttp<4.0.0,>=3.8.3->langchain_community) (1.20.1)\n",
            "Requirement already satisfied: marshmallow<4.0.0,>=3.18.0 in /usr/local/lib/python3.11/dist-packages (from dataclasses-json<0.7,>=0.5.7->langchain_community) (3.26.1)\n",
            "Requirement already satisfied: typing-inspect<1,>=0.4.0 in /usr/local/lib/python3.11/dist-packages (from dataclasses-json<0.7,>=0.5.7->langchain_community) (0.9.0)\n",
            "Requirement already satisfied: langchain-text-splitters<1.0.0,>=0.3.8 in /usr/local/lib/python3.11/dist-packages (from langchain<1.0.0,>=0.3.26->langchain_community) (0.3.8)\n",
            "Requirement already satisfied: pydantic<3.0.0,>=2.7.4 in /usr/local/lib/python3.11/dist-packages (from langchain<1.0.0,>=0.3.26->langchain_community) (2.11.7)\n",
            "Requirement already satisfied: jsonpatch<2.0,>=1.33 in /usr/local/lib/python3.11/dist-packages (from langchain-core<1.0.0,>=0.3.66->langchain_community) (1.33)\n",
            "Requirement already satisfied: packaging<25,>=23.2 in /usr/local/lib/python3.11/dist-packages (from langchain-core<1.0.0,>=0.3.66->langchain_community) (24.2)\n",
            "Requirement already satisfied: typing-extensions>=4.7 in /usr/local/lib/python3.11/dist-packages (from langchain-core<1.0.0,>=0.3.66->langchain_community) (4.14.0)\n",
            "Requirement already satisfied: httpx<1,>=0.23.0 in /usr/local/lib/python3.11/dist-packages (from langsmith>=0.1.125->langchain_community) (0.28.1)\n",
            "Requirement already satisfied: orjson<4.0.0,>=3.9.14 in /usr/local/lib/python3.11/dist-packages (from langsmith>=0.1.125->langchain_community) (3.10.18)\n",
            "Requirement already satisfied: requests-toolbelt<2.0.0,>=1.0.0 in /usr/local/lib/python3.11/dist-packages (from langsmith>=0.1.125->langchain_community) (1.0.0)\n",
            "Requirement already satisfied: zstandard<0.24.0,>=0.23.0 in /usr/local/lib/python3.11/dist-packages (from langsmith>=0.1.125->langchain_community) (0.23.0)\n",
            "Requirement already satisfied: python-dotenv>=0.21.0 in /usr/local/lib/python3.11/dist-packages (from pydantic-settings<3.0.0,>=2.4.0->langchain_community) (1.1.1)\n",
            "Requirement already satisfied: typing-inspection>=0.4.0 in /usr/local/lib/python3.11/dist-packages (from pydantic-settings<3.0.0,>=2.4.0->langchain_community) (0.4.1)\n",
            "Requirement already satisfied: charset-normalizer<4,>=2 in /usr/local/lib/python3.11/dist-packages (from requests<3,>=2->langchain_community) (3.4.2)\n",
            "Requirement already satisfied: idna<4,>=2.5 in /usr/local/lib/python3.11/dist-packages (from requests<3,>=2->langchain_community) (3.10)\n",
            "Requirement already satisfied: urllib3<3,>=1.21.1 in /usr/local/lib/python3.11/dist-packages (from requests<3,>=2->langchain_community) (2.4.0)\n",
            "Requirement already satisfied: certifi>=2017.4.17 in /usr/local/lib/python3.11/dist-packages (from requests<3,>=2->langchain_community) (2025.6.15)\n",
            "Requirement already satisfied: greenlet>=1 in /usr/local/lib/python3.11/dist-packages (from SQLAlchemy<3,>=1.4->langchain_community) (3.2.3)\n",
            "Requirement already satisfied: anyio in /usr/local/lib/python3.11/dist-packages (from httpx<1,>=0.23.0->langsmith>=0.1.125->langchain_community) (4.9.0)\n",
            "Requirement already satisfied: httpcore==1.* in /usr/local/lib/python3.11/dist-packages (from httpx<1,>=0.23.0->langsmith>=0.1.125->langchain_community) (1.0.9)\n",
            "Requirement already satisfied: h11>=0.16 in /usr/local/lib/python3.11/dist-packages (from httpcore==1.*->httpx<1,>=0.23.0->langsmith>=0.1.125->langchain_community) (0.16.0)\n",
            "Requirement already satisfied: jsonpointer>=1.9 in /usr/local/lib/python3.11/dist-packages (from jsonpatch<2.0,>=1.33->langchain-core<1.0.0,>=0.3.66->langchain_community) (3.0.0)\n",
            "Requirement already satisfied: annotated-types>=0.6.0 in /usr/local/lib/python3.11/dist-packages (from pydantic<3.0.0,>=2.7.4->langchain<1.0.0,>=0.3.26->langchain_community) (0.7.0)\n",
            "Requirement already satisfied: pydantic-core==2.33.2 in /usr/local/lib/python3.11/dist-packages (from pydantic<3.0.0,>=2.7.4->langchain<1.0.0,>=0.3.26->langchain_community) (2.33.2)\n",
            "Requirement already satisfied: mypy-extensions>=0.3.0 in /usr/local/lib/python3.11/dist-packages (from typing-inspect<1,>=0.4.0->dataclasses-json<0.7,>=0.5.7->langchain_community) (1.1.0)\n",
            "Requirement already satisfied: sniffio>=1.1 in /usr/local/lib/python3.11/dist-packages (from anyio->httpx<1,>=0.23.0->langsmith>=0.1.125->langchain_community) (1.3.1)\n"
          ]
        }
      ]
    },
    {
      "cell_type": "code",
      "source": [
        "!wget -q https://huggingface.co/TheBloke/TinyLlama-1.1B-Chat-v1.0-GGUF/resolve/main/tinyllama-1.1b-chat-v1.0.Q4_K_M.gguf -O tinyllama.gguf"
      ],
      "metadata": {
        "id": "nWIP4nAseAEe"
      },
      "execution_count": null,
      "outputs": []
    },
    {
      "cell_type": "code",
      "source": [
        "from langchain.document_loaders import TextLoader\n",
        "from langchain.text_splitter import CharacterTextSplitter\n",
        "from langchain.embeddings import HuggingFaceEmbeddings\n",
        "from langchain.vectorstores import FAISS\n",
        "from langchain.chains import RetrievalQA\n",
        "from langchain.llms import LlamaCpp"
      ],
      "metadata": {
        "id": "VPjf_khScpyg"
      },
      "execution_count": null,
      "outputs": []
    },
    {
      "cell_type": "code",
      "source": [
        "loader = TextLoader(\"/content/drive/MyDrive/Dataset ML/notes.txt\")\n",
        "documents = loader.load()"
      ],
      "metadata": {
        "id": "ZAiswBPZf0Kw"
      },
      "execution_count": null,
      "outputs": []
    },
    {
      "cell_type": "code",
      "source": [
        "splitter = CharacterTextSplitter(chunk_size=500, chunk_overlap=50)\n",
        "texts = splitter.split_documents(documents)"
      ],
      "metadata": {
        "colab": {
          "base_uri": "https://localhost:8080/"
        },
        "id": "-nvzVcRvgaxx",
        "outputId": "0bbdd318-accf-44de-fc21-c8aec45f4061"
      },
      "execution_count": null,
      "outputs": [
        {
          "output_type": "stream",
          "name": "stderr",
          "text": [
            "WARNING:langchain_text_splitters.base:Created a chunk of size 529, which is longer than the specified 500\n",
            "WARNING:langchain_text_splitters.base:Created a chunk of size 544, which is longer than the specified 500\n",
            "WARNING:langchain_text_splitters.base:Created a chunk of size 560, which is longer than the specified 500\n"
          ]
        }
      ]
    },
    {
      "cell_type": "code",
      "source": [
        "embeddings = HuggingFaceEmbeddings()\n",
        "vectorstore = FAISS.from_documents(texts, embeddings)"
      ],
      "metadata": {
        "colab": {
          "base_uri": "https://localhost:8080/",
          "height": 563,
          "referenced_widgets": [
            "1ca951d0b3854c52be6d57cfc6fc21e5",
            "21842ed2faa240a98ce42ece88f463ab",
            "52f10b008a354264a54fb93ce9efa1f8",
            "39cbcf3ce7074c75970f228837e1f959",
            "ae1735ece2e048bca75f1b405c313213",
            "6971756a84bf4e3f8292e4d3f0a925b5",
            "25c9abfb08b048469d494bdaf78dd089",
            "35727502a24e4ce2bb61a885fe8e4d3d",
            "0d7d57195c754d4fb8a0bc59dc95f764",
            "dc348c3fe4c24004bc7f482318d570b2",
            "07e844d0d6fe479e92be77dff789c850",
            "fea0fb9d217a4d2190120c7b2b6d444c",
            "11313f67cf9e4b09b249fbb79533ef9e",
            "03cf3054df3b4fa7a7671ae9047f4daf",
            "1726e2f7da244f4f90326aac8d7c13a7",
            "60627a9876394b968b02564e66f8164b",
            "4b93546367b44816a447ef983f937e5b",
            "92ace827226345b28510afcbf98a17b3",
            "7abddf5943d84727bdc2ae02494ab02e",
            "0db92607764f491c812755d37334fc54",
            "3584507039f34934bd610d2a36eb70e2",
            "322450bbe23f4f21acde8a6dbca58a03",
            "f8d27b67dbd644b4975bb85bccdf65bc",
            "dd901eb554eb444cb2d98b7b21604d1e",
            "ac04b7e165874a249ab0214fb969950c",
            "71a9be1577be4fa49e952c976c2415fa",
            "507b2d38e23d4c40b14e9f225a0072ba",
            "b1db3fd540d74fd2858e2022a61f322c",
            "ca0eb2e1d07448ca86bb814f3ef9844b",
            "318e3eedffbc4e1d95cd33bcd4c3a051",
            "ce68f844ed8a4c089e6704f95efe231a",
            "d4287a6cbd2247249f63790a4492bb7c",
            "b89f45127808461da146848e081d31ba",
            "1a1f7c78fb0742ac8c3ee3b1094ae821",
            "d6b62d0e025847b9b3a73141801f8e2a",
            "6b0d780ae013497681be690f954c7baa",
            "edd9cc1a74ad4a1a83a12138b6203c7c",
            "6bcdbd52076a46f19493a2c742e7dde3",
            "32f2ed277b184cf0b3868eee5e56402b",
            "29fd1554047c44889b19a646180b1e63",
            "25b78b5407fd41499c736373a59ead70",
            "342802ab37ff43929d410efa27086c52",
            "86fb13d4c7504e27967abc59a45a9373",
            "cd6a08a1931842f9b2f7a28b9bee8206",
            "06c89e425fef4021bd8d4b81296058e7",
            "207f53029a1e4fb394c69ba3783ccfdd",
            "6f11af48139e4408b9862c42cbc36736",
            "1b0ce0e07ae0470d9cc82f2931588ae3",
            "19bcefb2ce7544a09cd96ba39a3dd453",
            "6852e7dc0c074bd8964c48350c7ed2f4",
            "3775f7874d4e4a2198cdb639008bcd95",
            "99ad11debae44e61b4bc77a00e4dc653",
            "aab84f9d467944359d471273cdbd23df",
            "c287ee64000048c1bb4b1c7587c25fb2",
            "a6ea8288e53a4d04a68be8454eb95ca5",
            "2f3964ad7150467ba30fc8436cb52e21",
            "cebc34d813f14ff390978bb04e0d270e",
            "1165479429d3438ba354bfa7b6bb3208",
            "44a98f46a46d41849007d317df3f65dd",
            "8b78a0c25a7d4f7aa7fba8c3e6ec9e8c",
            "d67528a33bb94d279d82b869f7ac085f",
            "1e7f56a5b919424ea55fd527dca626ea",
            "b6f20421feeb4114a8905afc96cee79c",
            "f2dbe954b86b4d94a76e97f14f75beec",
            "ff244d3b48df42fea89025ad2003b8f5",
            "91ff8a7eb8dd431ebcbea68931dc0b92",
            "89d827eb23fd4d748a75b4dc9b2328c6",
            "77f224be9aad45b89f27508862c72150",
            "830209e5686d4c0f8ddcce9101ea2d52",
            "ebcb29bfa15441f69dddc77cce1592f7",
            "1f392def635845489797fd0beb30afd6",
            "63201a5817b8420c89613e7d6d2a927a",
            "1783a62e963043259d02b198035eb1dd",
            "dab195d1b1234d7bb02299321e51ff08",
            "86c439ea8ae448e2a743ec2d2acc6b83",
            "537ed29598954ba880e2feedbd353da2",
            "85243c617b6e47a0964f6bcda205cb43",
            "17940f2988d3450e82d7493341aeef21",
            "ed7576c08b4e40cfbabf2621c5e0934a",
            "e989cc5066844a65a028157a1af200d5",
            "1791c30178484e0bb514468b1fa7ba45",
            "647714df50574d289cde10dfac286daa",
            "d839365739764898ba77745b5229bc3c",
            "f4a1a5a8bce549ee9a349dd422810225",
            "f4deeb9b64de464ab139f295f0ec4d83",
            "da990ca8c336405ca110a8f35c4ed7ff",
            "2fc5fc713ff74a799c4cfbf0ad223dc2",
            "fedcf2640aed46c1816af1130e62fa84",
            "0ddcd3945a9643a2a0ac1b1173ba6a74",
            "1cbc1f426a7a4b3aac78280e6dc7a153",
            "c03b52a5ed7a46279febb7b4033c590c",
            "94a59c09f8fb4310aad90c0708859919",
            "42c89b0b8adf4f1198403fb496bfad62",
            "635a930349f74039855717788f630bc9",
            "1ee87bd6d0404020ab84e7929ee20961",
            "04ba81b53e8140e288adb6718fe68409",
            "b9e05c08a509470385676a90e4032670",
            "12aa453bdb2048eeb3dc4e260f34d929",
            "f062eeb7db804337a38ec9beaa059d15",
            "981c423d44c24554a24364f76f916039",
            "f46735b98f6943b6907f296075677595",
            "422adf9d9e2d4cfb88d292ae04b6cee9",
            "b81c0d88854c41cb922d7b8b6c977ce8",
            "d421e0ca54ff49abb8d2f3d2f967c78a",
            "02feaef0b530461fa413d818dee2b69b",
            "cc45928e88794a0e9766aa6493a5a86d",
            "2ab4042ecf414678bb98e66f77becc43",
            "8d1ab222142f42558f7d6338a7916542",
            "526d306b8f8245edb2506898c55a5eaf",
            "da0b6a8c96cd45c487a562ff3cda1628",
            "3c96689b7ea24c28a345961e7bba6d84",
            "e6e0b6eed7a54888b46192fbefc33c86",
            "41329de831504416840e1b3225131671",
            "0a18f2dc4ac9429dad597510ce07d7c7",
            "10db53a193e44345901442c95672ce22",
            "1e20733d12294da09737bbf6de980b9c",
            "f6811d8147d04280ab8fefa36373c26f",
            "0e123cd4412d47ffa842786ed1947201",
            "59f7919cdb964fe2be6eea10e90eb25e",
            "e8ad1caddf7746429bc45193828d01fa",
            "a2267923f6154f1eac17ce58a39acce4"
          ]
        },
        "id": "Hi2UgvwBgo7Z",
        "outputId": "a969f9cb-dbaa-4d87-a93d-4af936ded62c"
      },
      "execution_count": null,
      "outputs": [
        {
          "output_type": "stream",
          "name": "stderr",
          "text": [
            "/tmp/ipython-input-8-735985149.py:1: LangChainDeprecationWarning: The class `HuggingFaceEmbeddings` was deprecated in LangChain 0.2.2 and will be removed in 1.0. An updated version of the class exists in the :class:`~langchain-huggingface package and should be used instead. To use it run `pip install -U :class:`~langchain-huggingface` and import as `from :class:`~langchain_huggingface import HuggingFaceEmbeddings``.\n",
            "  embeddings = HuggingFaceEmbeddings()\n",
            "/tmp/ipython-input-8-735985149.py:1: LangChainDeprecationWarning: Default values for HuggingFaceEmbeddings.model_name were deprecated in LangChain 0.2.16 and will be removed in 0.4.0. Explicitly pass a model_name to the HuggingFaceEmbeddings constructor instead.\n",
            "  embeddings = HuggingFaceEmbeddings()\n",
            "/usr/local/lib/python3.11/dist-packages/huggingface_hub/utils/_auth.py:94: UserWarning: \n",
            "The secret `HF_TOKEN` does not exist in your Colab secrets.\n",
            "To authenticate with the Hugging Face Hub, create a token in your settings tab (https://huggingface.co/settings/tokens), set it as secret in your Google Colab and restart your session.\n",
            "You will be able to reuse this secret in all of your notebooks.\n",
            "Please note that authentication is recommended but still optional to access public models or datasets.\n",
            "  warnings.warn(\n"
          ]
        },
        {
          "output_type": "display_data",
          "data": {
            "text/plain": [
              "modules.json:   0%|          | 0.00/349 [00:00<?, ?B/s]"
            ],
            "application/vnd.jupyter.widget-view+json": {
              "version_major": 2,
              "version_minor": 0,
              "model_id": "1ca951d0b3854c52be6d57cfc6fc21e5"
            }
          },
          "metadata": {}
        },
        {
          "output_type": "display_data",
          "data": {
            "text/plain": [
              "config_sentence_transformers.json:   0%|          | 0.00/116 [00:00<?, ?B/s]"
            ],
            "application/vnd.jupyter.widget-view+json": {
              "version_major": 2,
              "version_minor": 0,
              "model_id": "fea0fb9d217a4d2190120c7b2b6d444c"
            }
          },
          "metadata": {}
        },
        {
          "output_type": "display_data",
          "data": {
            "text/plain": [
              "README.md: 0.00B [00:00, ?B/s]"
            ],
            "application/vnd.jupyter.widget-view+json": {
              "version_major": 2,
              "version_minor": 0,
              "model_id": "f8d27b67dbd644b4975bb85bccdf65bc"
            }
          },
          "metadata": {}
        },
        {
          "output_type": "display_data",
          "data": {
            "text/plain": [
              "sentence_bert_config.json:   0%|          | 0.00/53.0 [00:00<?, ?B/s]"
            ],
            "application/vnd.jupyter.widget-view+json": {
              "version_major": 2,
              "version_minor": 0,
              "model_id": "1a1f7c78fb0742ac8c3ee3b1094ae821"
            }
          },
          "metadata": {}
        },
        {
          "output_type": "display_data",
          "data": {
            "text/plain": [
              "config.json:   0%|          | 0.00/571 [00:00<?, ?B/s]"
            ],
            "application/vnd.jupyter.widget-view+json": {
              "version_major": 2,
              "version_minor": 0,
              "model_id": "06c89e425fef4021bd8d4b81296058e7"
            }
          },
          "metadata": {}
        },
        {
          "output_type": "display_data",
          "data": {
            "text/plain": [
              "model.safetensors:   0%|          | 0.00/438M [00:00<?, ?B/s]"
            ],
            "application/vnd.jupyter.widget-view+json": {
              "version_major": 2,
              "version_minor": 0,
              "model_id": "2f3964ad7150467ba30fc8436cb52e21"
            }
          },
          "metadata": {}
        },
        {
          "output_type": "display_data",
          "data": {
            "text/plain": [
              "tokenizer_config.json:   0%|          | 0.00/363 [00:00<?, ?B/s]"
            ],
            "application/vnd.jupyter.widget-view+json": {
              "version_major": 2,
              "version_minor": 0,
              "model_id": "89d827eb23fd4d748a75b4dc9b2328c6"
            }
          },
          "metadata": {}
        },
        {
          "output_type": "display_data",
          "data": {
            "text/plain": [
              "vocab.txt: 0.00B [00:00, ?B/s]"
            ],
            "application/vnd.jupyter.widget-view+json": {
              "version_major": 2,
              "version_minor": 0,
              "model_id": "17940f2988d3450e82d7493341aeef21"
            }
          },
          "metadata": {}
        },
        {
          "output_type": "display_data",
          "data": {
            "text/plain": [
              "tokenizer.json: 0.00B [00:00, ?B/s]"
            ],
            "application/vnd.jupyter.widget-view+json": {
              "version_major": 2,
              "version_minor": 0,
              "model_id": "0ddcd3945a9643a2a0ac1b1173ba6a74"
            }
          },
          "metadata": {}
        },
        {
          "output_type": "display_data",
          "data": {
            "text/plain": [
              "special_tokens_map.json:   0%|          | 0.00/239 [00:00<?, ?B/s]"
            ],
            "application/vnd.jupyter.widget-view+json": {
              "version_major": 2,
              "version_minor": 0,
              "model_id": "981c423d44c24554a24364f76f916039"
            }
          },
          "metadata": {}
        },
        {
          "output_type": "display_data",
          "data": {
            "text/plain": [
              "config.json:   0%|          | 0.00/190 [00:00<?, ?B/s]"
            ],
            "application/vnd.jupyter.widget-view+json": {
              "version_major": 2,
              "version_minor": 0,
              "model_id": "3c96689b7ea24c28a345961e7bba6d84"
            }
          },
          "metadata": {}
        }
      ]
    },
    {
      "cell_type": "code",
      "source": [
        "from langchain.llms import LlamaCpp\n",
        "\n",
        "llm = LlamaCpp(\n",
        "    model_path=\"./tinyllama.gguf\",\n",
        "    temperature=0.5,\n",
        "    max_tokens=512, # word convert as number it max allow 512\n",
        "    top_p=0.95, #for meaningful answer provide by the model\n",
        "    n_ctx=2048, #regarding tokens\n",
        "    n_batch=64,\n",
        "    verbose=False #backend process will be displayed\n",
        ")"
      ],
      "metadata": {
        "colab": {
          "base_uri": "https://localhost:8080/"
        },
        "id": "p8tERe28jNrp",
        "outputId": "7b2eae1a-c0c7-409b-f68a-b6229972f395"
      },
      "execution_count": null,
      "outputs": [
        {
          "output_type": "stream",
          "name": "stderr",
          "text": [
            "llama_kv_cache_unified: LLAMA_SET_ROWS=0, using old ggml_cpy() method for backwards compatibility\n"
          ]
        }
      ]
    },
    {
      "cell_type": "code",
      "source": [
        "from langchain.chains import RetrievalQA  #retrieval is LangChain\n",
        "qa_chain = RetrievalQA.from_chain_type(llm=llm, retriever=vectorstore.as_retriever()) #retriever is conversion which is like a model we can use"
      ],
      "metadata": {
        "id": "7OpFmuvPiBTP"
      },
      "execution_count": null,
      "outputs": []
    },
    {
      "cell_type": "code",
      "source": [
        "question = \"Name two electric models produced by BMW and explain what the company is doing to support sustainability?\"\n",
        "result = qa_chain.run(question)\n",
        "\n",
        "print(\"Answer:\", result)"
      ],
      "metadata": {
        "colab": {
          "base_uri": "https://localhost:8080/"
        },
        "id": "MK7ow0urjvYD",
        "outputId": "dfa26731-2380-4fb8-e1c0-924264ccee6e"
      },
      "execution_count": null,
      "outputs": [
        {
          "output_type": "stream",
          "name": "stdout",
          "text": [
            "Answer: \n",
            "BMW's electric mobility initiatives include the launch of its \"i\" sub-brand with vehicles like the i3, a compact electric car, and the i8, a hybrid sports car. BMW has also introduced all-electric models such as the i4 and iX, reflecting its commitment to environmentally conscious transportation. The company's sustainability efforts include investing in sustainable manufacturing processes and aiming to reduce its carbon footprint across its entire production chain.\n"
          ]
        }
      ]
    },
    {
      "cell_type": "code",
      "source": [],
      "metadata": {
        "id": "gMlCgHL-j2we"
      },
      "execution_count": null,
      "outputs": []
    }
  ]
}